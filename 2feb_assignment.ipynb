{
 "cells": [
  {
   "cell_type": "code",
   "execution_count": 5,
   "metadata": {},
   "outputs": [],
   "source": [
    "#1. Foor loop can be used for a situation when an loop through a iterable. And while can be used to check certain condition and execute desired code."
   ]
  },
  {
   "cell_type": "code",
   "execution_count": null,
   "metadata": {},
   "outputs": [
    {
     "name": "stdout",
     "output_type": "stream",
     "text": [
      "45\n",
      "362880\n"
     ]
    }
   ],
   "source": [
    "#2. sum of first 10 natural number\n",
    "helper_value = 1\n",
    "sum = 0\n",
    "while(helper_value < 10):\n",
    "    sum += helper_value\n",
    "    helper_value +=1\n",
    "\n",
    "print(sum)\n",
    "\n",
    "#. product of first 10 natural number\n",
    "helper_value = 1\n",
    "prod = 1\n",
    "while(helper_value < 10):\n",
    "    prod *=helper_value\n",
    "    helper_value +=1\n",
    "\n",
    "print(prod)"
   ]
  },
  {
   "cell_type": "code",
   "execution_count": 21,
   "metadata": {},
   "outputs": [
    {
     "name": "stdout",
     "output_type": "stream",
     "text": [
      "4250.0\n"
     ]
    }
   ],
   "source": [
    "#3. Houshold bill\n",
    "unit=410\n",
    "bill = 0\n",
    "if unit < 100:\n",
    "    bill = unit * 4.5\n",
    "if unit >= 100 and unit < 300:\n",
    "    bill = 100 * 4.5\n",
    "    unit -= 100\n",
    "    if unit > 0:\n",
    "        bill = bill + 100 * 6\n",
    "        unit -= 100\n",
    "        if unit > 0:\n",
    "            bill = bill + 100 * 10\n",
    "if unit > 300:\n",
    "    bill = 100 * 4.5 + 100 * 6 + 100 * 10\n",
    "    unit -= 300\n",
    "    bill = bill + unit * 20\n",
    "print(bill)"
   ]
  },
  {
   "cell_type": "code",
   "execution_count": null,
   "metadata": {},
   "outputs": [
    {
     "name": "stdout",
     "output_type": "stream",
     "text": [
      "[8, 64, 125, 216, 512, 1000, 1728, 2744, 3375, 4096, 5832, 8000, 10648, 13824, 15625, 17576, 21952, 27000, 32768, 39304, 42875, 46656, 54872, 64000, 74088, 85184, 91125, 97336, 110592, 125000, 140608, 157464, 166375, 175616, 195112, 216000, 238328, 262144, 274625, 287496, 314432, 343000, 373248, 405224, 421875, 438976, 474552, 512000, 551368, 592704, 614125, 636056, 681472, 729000, 778688, 830584, 857375, 884736, 941192, 1000000]\n"
     ]
    }
   ],
   "source": [
    "#4. list of number for 1 to 100\n",
    "list_1_to_100 = [i for i in range(1, 101)]\n",
    "divisible_by_4_or_5 = []\n",
    "for i in list_1_to_100:\n",
    "    i = i**3\n",
    "    if i % 4 == 0 or i % 5 == 0:\n",
    "        divisible_by_4_or_5.append(i)\n",
    "print(divisible_by_4_or_5)"
   ]
  },
  {
   "cell_type": "code",
   "execution_count": 22,
   "metadata": {},
   "outputs": [
    {
     "name": "stdout",
     "output_type": "stream",
     "text": [
      "12\n"
     ]
    }
   ],
   "source": [
    "#5. filter vowels count from string = \"I want to become a data scientist\"\n",
    "string = \"I want to become a data scientist\"\n",
    "vowels_list = [\"a\",\"e\", \"i\", \"o\", \"u\"]\n",
    "count = 0\n",
    "for i in string.lower():\n",
    "    if i != \" \":\n",
    "        if i in vowels_list:\n",
    "            count+=1\n",
    "print(count)"
   ]
  },
  {
   "cell_type": "code",
   "execution_count": null,
   "metadata": {},
   "outputs": [],
   "source": []
  }
 ],
 "metadata": {
  "kernelspec": {
   "display_name": "Python 3",
   "language": "python",
   "name": "python3"
  },
  "language_info": {
   "codemirror_mode": {
    "name": "ipython",
    "version": 3
   },
   "file_extension": ".py",
   "mimetype": "text/x-python",
   "name": "python",
   "nbconvert_exporter": "python",
   "pygments_lexer": "ipython3",
   "version": "3.10.10"
  },
  "orig_nbformat": 4,
  "vscode": {
   "interpreter": {
    "hash": "486e0d5a79acdbfffd563ee7a67a93a5017bd2a4f66495483a69f0245c8a4a6c"
   }
  }
 },
 "nbformat": 4,
 "nbformat_minor": 2
}
