{
 "cells": [
  {
   "cell_type": "code",
   "execution_count": 35,
   "metadata": {},
   "outputs": [
    {
     "data": {
      "text/plain": [
       "'not valid password length 5'"
      ]
     },
     "execution_count": 35,
     "metadata": {},
     "output_type": "execute_result"
    }
   ],
   "source": [
    "def check_password(string: str):\n",
    "    string:str = string.strip()\n",
    "    if len(string) < 10:\n",
    "        return f\"not valid password length {len(string)}\"\n",
    "    \n",
    "    uppercase = []\n",
    "    lowercase = []\n",
    "    numeric = []\n",
    "    characterList = list(\"~!@#$%^&*()?><,./;'\\[]=-+/*\")\n",
    "    ch_count = 0\n",
    "\n",
    "    for ch in string:\n",
    "        if ch.isupper():\n",
    "            uppercase.append(ch)\n",
    "        \n",
    "        if ch.islower():\n",
    "            lowercase.append(ch)\n",
    "\n",
    "        if ch.isnumeric():\n",
    "            numeric.append(ch)\n",
    "        \n",
    "        if ch in characterList:\n",
    "            ch_count+=1\n",
    "\n",
    "    if len(uppercase) >=2 and len(lowercase) >=2 and len(numeric) >=1 and ch_count >=3:\n",
    "        return \"vlid password\"\n",
    "    else:\n",
    "        return \"invalid password\"\n",
    "\n",
    "check_password(input(\"enter password to validate:\"))"
   ]
  },
  {
   "cell_type": "code",
   "execution_count": 47,
   "metadata": {},
   "outputs": [
    {
     "data": {
      "text/plain": [
       "True"
      ]
     },
     "execution_count": 47,
     "metadata": {},
     "output_type": "execute_result"
    }
   ],
   "source": [
    "# check if a string start with particular letter\n",
    "string_check = lambda string, ch_start_with: True if string[0] == ch_start_with else False\n",
    "string_check(\"w1\", \"w\")"
   ]
  },
  {
   "cell_type": "code",
   "execution_count": 5,
   "metadata": {},
   "outputs": [
    {
     "data": {
      "text/plain": [
       "[('orange', 80), ('mango', 99), ('grapes', 1000)]"
      ]
     },
     "execution_count": 5,
     "metadata": {},
     "output_type": "execute_result"
    }
   ],
   "source": [
    "# sort list of tuples quantity. [(\"mango\",99),(\"orange\",80), (\"grapes\", 1000)]-\n",
    "from functools import reduce\n",
    "fruits_bucket = [(\"mango\",99),(\"orange\",80), (\"grapes\", 1000)]\n",
    "fruits_bucket.sort(key=lambda x:x[1] )\n",
    "fruits_bucket"
   ]
  },
  {
   "cell_type": "code",
   "execution_count": 51,
   "metadata": {},
   "outputs": [
    {
     "data": {
      "text/plain": [
       "[1, 4, 9, 16, 25, 36, 49, 64, 81, 100]"
      ]
     },
     "execution_count": 51,
     "metadata": {},
     "output_type": "execute_result"
    }
   ],
   "source": [
    "# square 1 to 10\n",
    "square_list = list(map(lambda x: x**2,[num for num in range(1,11)]))\n",
    "square_list"
   ]
  },
  {
   "cell_type": "code",
   "execution_count": 46,
   "metadata": {},
   "outputs": [
    {
     "data": {
      "text/plain": [
       "[1.0,\n",
       " 1.2599210498948732,\n",
       " 1.4422495703074083,\n",
       " 1.5874010519681994,\n",
       " 1.7099759466766968,\n",
       " 1.8171205928321397,\n",
       " 1.912931182772389,\n",
       " 2.0,\n",
       " 2.080083823051904,\n",
       " 2.154434690031884]"
      ]
     },
     "execution_count": 46,
     "metadata": {},
     "output_type": "execute_result"
    }
   ],
   "source": [
    "# find the cube root of a number\n",
    "cube_root_of_number = list(map(lambda x:pow(x,1/3),[num for num in range(1,11)]))\n",
    "cube_root_of_number\n"
   ]
  },
  {
   "cell_type": "code",
   "execution_count": 19,
   "metadata": {},
   "outputs": [
    {
     "name": "stdout",
     "output_type": "stream",
     "text": [
      "False\n"
     ]
    }
   ],
   "source": [
    "# if given number is even\n",
    "check_for_even = lambda x: True if x %2==0 else False\n",
    "print(check_for_even(11))"
   ]
  },
  {
   "cell_type": "code",
   "execution_count": 54,
   "metadata": {},
   "outputs": [
    {
     "name": "stdout",
     "output_type": "stream",
     "text": [
      "True\n"
     ]
    }
   ],
   "source": [
    "# if given number is even\n",
    "check_for_even = lambda x: True if x %2==0 else False\n",
    "print(check_for_even(10))"
   ]
  },
  {
   "cell_type": "code",
   "execution_count": 48,
   "metadata": {},
   "outputs": [
    {
     "name": "stdout",
     "output_type": "stream",
     "text": [
      "[1, 3, 5, 7, 9]\n"
     ]
    }
   ],
   "source": [
    "\n",
    "# filter odd numbers [1,2,3,4,5,6,7,8,9,10]\n",
    "all_number = [1,2,3,4,5,6,7,8,9,10]\n",
    "odd_number_list = list(filter(lambda x: x % 2 != 0, all_number))\n",
    "print(odd_number_list)"
   ]
  },
  {
   "cell_type": "code",
   "execution_count": 8,
   "metadata": {},
   "outputs": [
    {
     "name": "stdout",
     "output_type": "stream",
     "text": [
      "[1, 2, 3, 4, 5, 6] [-1, -2, -3, -4, -5]\n"
     ]
    }
   ],
   "source": [
    "integer=[1,2,3,4,5,6,-1,-2,-3,-4,-5]\n",
    "positive_integer=[]\n",
    "negative_integer=[]\n",
    "for i in integer :\n",
    "    positive_integer.append(i) if i > 0 else negative_integer.append(i)\n",
    "print(positive_integer,negative_integer)\n"
   ]
  },
  {
   "cell_type": "code",
   "execution_count": null,
   "metadata": {},
   "outputs": [],
   "source": []
  }
 ],
 "metadata": {
  "kernelspec": {
   "display_name": "Python 3",
   "language": "python",
   "name": "python3"
  },
  "language_info": {
   "codemirror_mode": {
    "name": "ipython",
    "version": 3
   },
   "file_extension": ".py",
   "mimetype": "text/x-python",
   "name": "python",
   "nbconvert_exporter": "python",
   "pygments_lexer": "ipython3",
   "version": "3.10.10"
  },
  "orig_nbformat": 4,
  "vscode": {
   "interpreter": {
    "hash": "486e0d5a79acdbfffd563ee7a67a93a5017bd2a4f66495483a69f0245c8a4a6c"
   }
  }
 },
 "nbformat": 4,
 "nbformat_minor": 2
}
