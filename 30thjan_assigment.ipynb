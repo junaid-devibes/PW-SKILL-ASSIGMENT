{
 "cells": [
  {
   "cell_type": "code",
   "execution_count": 45,
   "id": "02e9450f-c25c-4359-bbe5-e183aa53bc48",
   "metadata": {},
   "outputs": [
    {
     "name": "stdout",
     "output_type": "stream",
     "text": [
      "Enter the percentage mark of yours 45\n"
     ]
    },
    {
     "name": "stdout",
     "output_type": "stream",
     "text": [
      "D Grade\n"
     ]
    }
   ],
   "source": [
    "#1.\n",
    "per_mark = int(input(\"Enter the percentage mark of yours\"))\n",
    "if per_mark > 90:\n",
    "    print(\"A Grade\")\n",
    "elif per_mark >80 and per_mark <=90:\n",
    "    print(\"B Grade\")\n",
    "elif per_mark  >=60 and per_mark <=80:\n",
    "    print(\"C Grade\")\n",
    "elif per_mark < 60:\n",
    "    print(\"D Grade\")\n",
    "else:\n",
    "    print(\"invalid input\")"
   ]
  },
  {
   "cell_type": "code",
   "execution_count": 65,
   "id": "7fce0033-a71e-4119-9341-d63d01ab50b8",
   "metadata": {},
   "outputs": [
    {
     "name": "stdout",
     "output_type": "stream",
     "text": [
      "enter the cost price of bike 55\n"
     ]
    },
    {
     "name": "stdout",
     "output_type": "stream",
     "text": [
      "invalid cost allowed above 10000\n"
     ]
    }
   ],
   "source": [
    "#2.\n",
    "cost_price=int(input(\"enter the cost price of bike\"))\n",
    "if cost_price > 100000:\n",
    "    print(\"ROAD TAX: 15%\")\n",
    "elif cost_price > 50000 and cost_price <=100000:\n",
    "    print(\"ROAD TAX: 10%\")\n",
    "elif cost_price <=50000 and cost_price >=10000:\n",
    "    print(\"ROAD TAX: 5%\")\n",
    "else :\n",
    "    print(\"invalid cost allowed above 10000\")\n"
   ]
  },
  {
   "cell_type": "code",
   "execution_count": 109,
   "id": "4a41a204-0aba-43f5-983d-3c7c2dca9033",
   "metadata": {},
   "outputs": [
    {
     "name": "stdout",
     "output_type": "stream",
     "text": [
      "enter the city agra\n"
     ]
    },
    {
     "name": "stdout",
     "output_type": "stream",
     "text": [
      "Monument Taj Mahal\n"
     ]
    }
   ],
   "source": [
    "#3.\n",
    "city=str(input(\"enter the city\")).lower()\n",
    "available_city=[\"delhi\",\"agra\",\"jaipur\"]\n",
    "correct_city=[\"Red Fort\",\"Taj Mahal\",\"Jal Mahal\"]\n",
    "\n",
    "if city in available_city:\n",
    "    for i in available_city:\n",
    "        if city == i:\n",
    "            print(f\"Monument {correct_city[available_city.index(city)]}\")\n",
    "else:\n",
    "    print(f\"City not in available list {available_city}\")\n"
   ]
  },
  {
   "cell_type": "code",
   "execution_count": 1,
   "id": "719b94d6-8f4f-43d7-ad78-468e90813671",
   "metadata": {},
   "outputs": [],
   "source": [
    "#4. \n",
    "input_num = int(input(\"Enter number to check:\"))\n",
    "count = 0\n",
    "                \n",
    "while(input_num <=10):\n",
    "    count+=1\n",
    "    input_num /= 3\n",
    "print(f\"Given number is divisible by 3 for {count} times\")"
   ]
  },
  {
   "cell_type": "code",
   "execution_count": null,
   "id": "1420448f-89c2-4c6d-831f-f0e344f64fa1",
   "metadata": {},
   "outputs": [],
   "source": [
    "#5. loops are used to repeat a block of code. \n",
    "# For example, if we want to show a message 100 times, then we can use a loop. \n",
    "# It's just a simple example, we can achieve much more with loops.\n",
    "l = [1,2,3,4,5,6,7,8,9,10]\n",
    "index = 0\n",
    "while index < len(l):\n",
    "    if l[index] % 2 == 0:\n",
    "        print(l[index])\n",
    "    index +=1"
   ]
  },
  {
   "cell_type": "code",
   "execution_count": 21,
   "id": "d80c162b",
   "metadata": {},
   "outputs": [
    {
     "name": "stdout",
     "output_type": "stream",
     "text": [
      "* * * * * \n",
      "* * * * * \n",
      "* * * * * \n",
      "* * * * * \n",
      "* * * * * \n"
     ]
    }
   ],
   "source": [
    "#6. pattern 1\n",
    "star=\"*\"\n",
    "i=0\n",
    "while i < 5:\n",
    "    j = 0\n",
    "    while j < 5:\n",
    "        print(star, end=\" \")\n",
    "        j+=1\n",
    "    i+=1\n",
    "    print()\n",
    "   "
   ]
  },
  {
   "cell_type": "code",
   "execution_count": 23,
   "id": "64943fce",
   "metadata": {},
   "outputs": [
    {
     "name": "stdout",
     "output_type": "stream",
     "text": [
      "* \n",
      "* * \n",
      "* * * \n",
      "* * * * \n",
      "* * * * * \n"
     ]
    }
   ],
   "source": [
    "#6. pattern 2\n",
    "star=\"*\"\n",
    "i=0\n",
    "while i < 5:\n",
    "    j = 0\n",
    "    while j <= i:\n",
    "        print(star, end=\" \")\n",
    "        j+=1\n",
    "    i+=1\n",
    "    print()"
   ]
  },
  {
   "cell_type": "code",
   "execution_count": 3,
   "id": "e9528b1d-083d-4b5b-ac46-3f3684c5a5bf",
   "metadata": {},
   "outputs": [
    {
     "name": "stdout",
     "output_type": "stream",
     "text": [
      "10\n",
      "9\n",
      "8\n",
      "7\n",
      "6\n",
      "5\n",
      "4\n",
      "3\n",
      "2\n",
      "1\n"
     ]
    }
   ],
   "source": [
    "#7.\n",
    "iterator = 10\n",
    "while iterator > 0:\n",
    "    print(iterator)\n",
    "    iterator-=1\n",
    "    "
   ]
  },
  {
   "cell_type": "code",
   "execution_count": null,
   "id": "fe948ce7",
   "metadata": {},
   "outputs": [],
   "source": []
  }
 ],
 "metadata": {
  "kernelspec": {
   "display_name": "Python 3",
   "language": "python",
   "name": "python3"
  },
  "language_info": {
   "codemirror_mode": {
    "name": "ipython",
    "version": 3
   },
   "file_extension": ".py",
   "mimetype": "text/x-python",
   "name": "python",
   "nbconvert_exporter": "python",
   "pygments_lexer": "ipython3",
   "version": "3.10.10"
  },
  "vscode": {
   "interpreter": {
    "hash": "486e0d5a79acdbfffd563ee7a67a93a5017bd2a4f66495483a69f0245c8a4a6c"
   }
  }
 },
 "nbformat": 4,
 "nbformat_minor": 5
}
