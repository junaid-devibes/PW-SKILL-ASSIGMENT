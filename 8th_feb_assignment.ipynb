{
 "cells": [
  {
   "cell_type": "code",
   "execution_count": 4,
   "metadata": {},
   "outputs": [
    {
     "data": {
      "text/plain": [
       "'petrol'"
      ]
     },
     "execution_count": 4,
     "metadata": {},
     "output_type": "execute_result"
    }
   ],
   "source": [
    "#Q1. What is Abstraction in OOps? Explain with an example.\n",
    "#ans-Abstraction is one of the important topics of object-oriented programming (OOP) which is used to handle complexity by hiding unnecessary information and showing only essential information to the user.\n",
    " \n",
    "import abc\n",
    "class vechile:\n",
    "      @abc.abstractmethod\n",
    "      def fuel(self):\n",
    "            pass\n",
    "      @abc.abstractmethod\n",
    "      def miliage(self):\n",
    "            pass\n",
    "      \n",
    "class mustang(vechile):\n",
    "      def fuel(self):\n",
    "            return \"petrol\"\n",
    "      def miliage(self):\n",
    "            return \"8kmph\"  \n",
    "mt=mustang()\n",
    "mt.miliage() \n",
    "mt.fuel() \n",
    "            \n"
   ]
  },
  {
   "cell_type": "code",
   "execution_count": null,
   "metadata": {},
   "outputs": [],
   "source": [
    "#@2 Differentiate between Abstraction and Encapsulation. Explain with an example.\n",
    "\n",
    "#Abstraction is a way of representing some specific data. \n",
    "\n",
    "#Encapsulation is a way of exposing only the parts you wish to expose. \n",
    "#Differences  in “Example” of Abstraction and Encapsulation – Let’s take an example of a smartphone. You know what it does but you may not know how it does what it does. You only care about the display screen and keypad buttons rather than worrying about its inner circuitry. Here, smartphone is an abstract where the inner implementation details are encapsulation.\n",
    "\n"
   ]
  },
  {
   "cell_type": "code",
   "execution_count": null,
   "metadata": {},
   "outputs": [],
   "source": [
    "#@3What is abc module in python? Why is it used?\n",
    "\n",
    "#By default, Python does not provide abstract classes. The ‘abc’ module in the Python library provides the infrastructure for defining custom abstract base classes.\n",
    "\n",
    "#why it is use\n",
    "\n",
    "#For larger projects, it is impossible to remember the class details, and also the reusability of code can increase the bug. Therefore, we use \"abc\"."
   ]
  },
  {
   "cell_type": "code",
   "execution_count": 5,
   "metadata": {},
   "outputs": [],
   "source": [
    "#Q4How can we achieve data abstraction?\n",
    "\n",
    "#ans-abstraction can be achieved by having/using abstract classes and methods in our programs"
   ]
  },
  {
   "cell_type": "code",
   "execution_count": null,
   "metadata": {},
   "outputs": [],
   "source": [
    "#Q5Can we create an instance of an abstract class? Explain your answer.\n",
    "# ans-Abstract classes cannot be instantiated, but they can be subclassed. When an abstract class is subclassed, the subclass usually provides implementations for all of the abstract methods in its parent class. However, if it does not, then the subclass must also be declared abstract ."
   ]
  }
 ],
 "metadata": {
  "kernelspec": {
   "display_name": "Python 3",
   "language": "python",
   "name": "python3"
  },
  "language_info": {
   "codemirror_mode": {
    "name": "ipython",
    "version": 3
   },
   "file_extension": ".py",
   "mimetype": "text/x-python",
   "name": "python",
   "nbconvert_exporter": "python",
   "pygments_lexer": "ipython3",
   "version": "3.10.10"
  },
  "orig_nbformat": 4
 },
 "nbformat": 4,
 "nbformat_minor": 2
}
