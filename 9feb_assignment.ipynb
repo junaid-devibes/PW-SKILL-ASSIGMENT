{
 "cells": [
  {
   "cell_type": "code",
   "execution_count": 24,
   "metadata": {},
   "outputs": [
    {
     "data": {
      "text/plain": [
       "{'name': 'Toyota', 'max_speed': 100, 'average': 40, 'seating capacity': 4}"
      ]
     },
     "execution_count": 24,
     "metadata": {},
     "output_type": "execute_result"
    }
   ],
   "source": [
    "#1 Create a vehicle class with an init method having instance variables as name_of_vehicle, max_speed and average_of_vehicle.\n",
    "\n",
    "class Vehicle:\n",
    "    name_of_vehicle = None\n",
    "    max_speed = 120\n",
    "    average_of_vehicle = 40\n",
    "\n",
    "    def __init__(self, name_of_vehicle, max_speed, average_of_vehicle,) -> None:\n",
    "        self.name_of_vehicle = name_of_vehicle\n",
    "        self.max_speed = max_speed\n",
    "        self.average_of_vehicle = average_of_vehicle\n",
    "       \n",
    "#2 Create a child class car from the vehicle class created in Que 1, which will inherit the vehicle class.Create a method named seating_capacity which takes capacity as an argument and returns the name of the vehicle and its seating capacity.\n",
    "class Car(Vehicle):\n",
    "    capicity = None\n",
    "\n",
    "    def seating_capacity(self, capacity):\n",
    "        self.capicity = capacity\n",
    "\n",
    "    def get_carInfo(self):\n",
    "        car_detail = {\n",
    "            \"name\": self.name_of_vehicle, \n",
    "            \"max_speed\": self.max_speed, \n",
    "            \"average\": self.average_of_vehicle, \n",
    "            \"seating capacity\": self.capicity,\n",
    "        }\n",
    "        return car_detail\n",
    "\n",
    "car = Car(average_of_vehicle=40,  max_speed=100, name_of_vehicle=\"Toyota\")\n",
    "car.seating_capacity(4)\n",
    "car.get_carInfo()"
   ]
  },
  {
   "cell_type": "code",
   "execution_count": null,
   "metadata": {},
   "outputs": [],
   "source": [
    "#3 what is multiple inheritance? Write a python code to demonstrate multiple inheritance.\n",
    "#  ans- When a class is derived from more than one base class it is called multiple Inheritance."
   ]
  },
  {
   "cell_type": "code",
   "execution_count": 23,
   "metadata": {},
   "outputs": [
    {
     "data": {
      "text/plain": [
       "'coaches are experinced'"
      ]
     },
     "execution_count": 23,
     "metadata": {},
     "output_type": "execute_result"
    }
   ],
   "source": [
    "class coach:\n",
    "    def coaches(self):\n",
    "        return \"coaches are experinced\"\n",
    "class player:\n",
    "    def players(self):\n",
    "        return(\"players are fresh\")\n",
    "class team(player,coach):\n",
    "    pass\n",
    "team_object=team()\n",
    "team_object.players()\n",
    "team_object.coaches()\n"
   ]
  },
  {
   "cell_type": "code",
   "execution_count": 38,
   "metadata": {},
   "outputs": [],
   "source": [
    "#Q4. What are getter and setter in python? Create a class and create a getter and a setter method in this CLASS?\n",
    "\n",
    "#ans-A getter is a method that gets the value of a property. In OOPs this helps to access private attributes from a class.\n",
    "\n",
    "#ans-A setter is a method that sets the value of a property. In OOPs this helps to set the value to private attributes in a class.\n",
    "class vechile:\n",
    "    def __init__(self, name, fuel):\n",
    "        self._name = name\n",
    "        self._fuel = fuel\n",
    "    @property\n",
    "    def get_name(self):\n",
    "        return self._name\n",
    "        \n",
    "    @get_name.setter\n",
    "    def set_name(self, name):\n",
    "        self._name = name\n",
    "    @property    \n",
    "    def get_fuel(self):\n",
    "        return self._fuel\n",
    "    @get_name.setter\n",
    "    def set_fuel(self,fuel):\n",
    "      self._fuel = fuel\n",
    "a=2\n",
    "a=3\n",
    "a=4\n",
    "b\n",
    "c=4\n",
    "b"
   ]
  },
  {
   "cell_type": "code",
   "execution_count": null,
   "metadata": {},
   "outputs": [],
   "source": [
    "#Q5.What is method overriding in python? Write a python code to demonstrate method overriding.\n",
    "#ans-Method overriding in Python is when you have two methods with the same name that each perform different tasks. This is an important feature of inheritance in Python."
   ]
  }
 ],
 "metadata": {
  "kernelspec": {
   "display_name": "Python 3",
   "language": "python",
   "name": "python3"
  },
  "language_info": {
   "codemirror_mode": {
    "name": "ipython",
    "version": 3
   },
   "file_extension": ".py",
   "mimetype": "text/x-python",
   "name": "python",
   "nbconvert_exporter": "python",
   "pygments_lexer": "ipython3",
   "version": "3.10.10"
  },
  "orig_nbformat": 4
 },
 "nbformat": 4,
 "nbformat_minor": 2
}
