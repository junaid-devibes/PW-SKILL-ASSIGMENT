{
 "cells": [
  {
   "cell_type": "code",
   "execution_count": null,
   "metadata": {},
   "outputs": [
    {
     "name": "stdout",
     "output_type": "stream",
     "text": [
      "[1, 3, 5, 7, 9, 11, 13, 15, 17, 19, 21, 23, 25]\n"
     ]
    }
   ],
   "source": [
    "#1. def keyword is used to crate function\n",
    "def get_odd_number_list():\n",
    "    return [i for i in range(1, 26) if i % 2 != 0]\n",
    "\n",
    "print(get_odd_number_list())"
   ]
  },
  {
   "cell_type": "code",
   "execution_count": 1,
   "metadata": {},
   "outputs": [
    {
     "name": "stdout",
     "output_type": "stream",
     "text": [
      "(1, 2, 'a', [1, 2, 3])\n",
      "{'a': 1, 'b': '2', 'l': [1, 2, 3]}\n"
     ]
    }
   ],
   "source": [
    "#2. *args is used to accept any lenght of parameter in a function as positioned argument.\n",
    "#  and **kwargs is used to accept any length of named argument in a function.\n",
    "def accept_many_args(*args):\n",
    "    print(args)\n",
    "\n",
    "def accept_many_kwargs(**kwargs):\n",
    "    print(kwargs)\n",
    "\n",
    "accept_many_args(1,2,\"a\", [1,2,3])\n",
    "accept_many_kwargs(a=1, b=\"2\", l=[1,2,3])\n"
   ]
  },
  {
   "cell_type": "code",
   "execution_count": 26,
   "metadata": {},
   "outputs": [
    {
     "name": "stdout",
     "output_type": "stream",
     "text": [
      "<class 'list'>\n",
      "<class 'list_iterator'>\n",
      "1\n",
      "2\n",
      "3\n",
      "4\n",
      "5\n"
     ]
    }
   ],
   "source": [
    "#3. Iterator object must implement two speial methods __iter__() and __next__().\n",
    "# iterators are methods that iterate over iterable collections like list, tuple, set, dictionary. \n",
    "it = [1,2,3,4,5]\n",
    "print(type(it))\n",
    "convert_to_iterator = iter(it)\n",
    "print(type(convert_to_iterator))\n",
    "for i in range(5):\n",
    "    print(next(convert_to_iterator))"
   ]
  },
  {
   "cell_type": "code",
   "execution_count": 1,
   "metadata": {},
   "outputs": [
    {
     "name": "stdout",
     "output_type": "stream",
     "text": [
      "1\n",
      "2\n",
      "3\n",
      "4\n",
      "5\n"
     ]
    }
   ],
   "source": [
    "#4.\n",
    "def generator(l):\n",
    "    for i in l:\n",
    "        yield i\n",
    "\n",
    "iterator = generator([1,2,3,4,5])\n",
    "for i in  iterator:\n",
    "    print(i)"
   ]
  },
  {
   "cell_type": "code",
   "execution_count": 29,
   "metadata": {},
   "outputs": [
    {
     "name": "stdout",
     "output_type": "stream",
     "text": [
      "2\n",
      "3\n",
      "5\n",
      "7\n",
      "11\n",
      "13\n",
      "17\n",
      "19\n",
      "23\n",
      "29\n",
      "31\n",
      "37\n",
      "41\n",
      "43\n",
      "47\n",
      "53\n",
      "59\n",
      "61\n",
      "67\n",
      "71\n",
      "20\n"
     ]
    }
   ],
   "source": [
    "#5. generator function for prime number\n",
    "def get_prime(limit):\n",
    "    i = 2\n",
    "    while i <= limit:\n",
    "        j = 2\n",
    "        while j < 100:\n",
    "            if i%j == 0:\n",
    "                break\n",
    "            j += 1\n",
    "        if i == j:\n",
    "            yield i\n",
    "        i += 1\n",
    "        \n",
    "limit = 1000\n",
    "gen = get_prime(limit)\n",
    "counter = 0\n",
    "while counter < 20:\n",
    "    print(next(gen))\n",
    "    counter +=1"
   ]
  },
  {
   "cell_type": "code",
   "execution_count": 8,
   "metadata": {},
   "outputs": [
    {
     "name": "stdout",
     "output_type": "stream",
     "text": [
      "0\n",
      "1\n",
      "1\n",
      "2\n",
      "3\n",
      "5\n",
      "8\n",
      "13\n",
      "21\n",
      "34\n"
     ]
    }
   ],
   "source": [
    "#6. first 10 fabonacci series\n",
    "a = 0\n",
    "c = 0\n",
    "b = 1\n",
    "for i in range(10):\n",
    "    print(c)\n",
    "    a, b = b, c\n",
    "    c = a + b"
   ]
  },
  {
   "cell_type": "code",
   "execution_count": null,
   "metadata": {},
   "outputs": [
    {
     "name": "stdout",
     "output_type": "stream",
     "text": [
      "['p', 'w', 's', 'k', 'i', 'l', 'l', 's']\n"
     ]
    }
   ],
   "source": [
    "#7. list comprehension\n",
    "string = \"pwskills\"\n",
    "print([i for i in string])"
   ]
  },
  {
   "cell_type": "code",
   "execution_count": 1,
   "metadata": {},
   "outputs": [
    {
     "name": "stdout",
     "output_type": "stream",
     "text": [
      "Given number is palindrome\n"
     ]
    }
   ],
   "source": [
    "#8. to chekc a number is palindrome or not using while loop\n",
    "num = 45454\n",
    "temp = num\n",
    "rev = 0\n",
    "while num > 1:\n",
    "    dig = num % 10\n",
    "    rev = rev * 10 + dig\n",
    "    num = int(num / 10)\n",
    "print(\"Given number is palindrome\") if rev == temp else print(\"Given number is not palindrome\")"
   ]
  },
  {
   "cell_type": "code",
   "execution_count": null,
   "metadata": {},
   "outputs": [],
   "source": [
    "#.9 odd number list using list comprehension\n",
    "print([i for i in range(1, 101) if i % 2 !=0])"
   ]
  }
 ],
 "metadata": {
  "kernelspec": {
   "display_name": "Python 3",
   "language": "python",
   "name": "python3"
  },
  "language_info": {
   "codemirror_mode": {
    "name": "ipython",
    "version": 3
   },
   "file_extension": ".py",
   "mimetype": "text/x-python",
   "name": "python",
   "nbconvert_exporter": "python",
   "pygments_lexer": "ipython3",
   "version": "3.10.10"
  },
  "orig_nbformat": 4,
  "vscode": {
   "interpreter": {
    "hash": "486e0d5a79acdbfffd563ee7a67a93a5017bd2a4f66495483a69f0245c8a4a6c"
   }
  }
 },
 "nbformat": 4,
 "nbformat_minor": 2
}
