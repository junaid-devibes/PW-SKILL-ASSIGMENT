{
 "cells": [
  {
   "cell_type": "code",
   "execution_count": 2,
   "metadata": {},
   "outputs": [],
   "source": [
    "# Q1- What is an Exception in python? Write the difference between Exceptions and Syntax Errors.\n",
    "\n",
    "#ANS-The exceptions are the issues that can appear at runtime and compile time.There are two types of exceptions: Checked exceptions and Unchecked exceptions.\n",
    "\n",
    " #SYNTAX ERROR\n",
    "# An error cannot be handled at runtime.\n",
    "#An error can occur both at compile time and during runtime.\n",
    "#There are 3 types of Errors: \n",
    "#Syntax Error, Runtime Error and Logical Error\n",
    "\n",
    "#EXCEPTIONS\n",
    "#An exception can be handled at runtime\n",
    "# Although all the Exceptions occur at runtime. But checked Exceptions can be detected at compile time\n",
    "#There are 2 types of Exceptions: \n",
    "#Checked Exceptions and Unchecked Exceptions\n"
   ]
  },
  {
   "cell_type": "code",
   "execution_count": null,
   "metadata": {},
   "outputs": [],
   "source": [
    "# Q2 WHAT HAPPENS WHEN AN EXCEPTIONS IS NOT HANDLED ?\n",
    "#EXPLAIN WITH AN EXAMPLE\n",
    "#ANS \n",
    "# If an exception occurs during execution of the try clause, the exception may be handled by an except clause. If the exception is not handled by an except clause, the exception is re-raised after the finally clause has been executed.\n",
    "def bool_return():\n",
    "    try:\n",
    "        return True\n",
    "    finally:\n",
    "        return False\n",
    "\n",
    "bool_return()\n",
    "False"
   ]
  },
  {
   "cell_type": "code",
   "execution_count": null,
   "metadata": {},
   "outputs": [],
   "source": [
    "#Q3-WHICH PYHTON STATEMENT ARE USED TO CATCH & HANDLE ? EXPLAIN WITH EXAMPLE?\n",
    "#ANS- The basic syntax  try and except.\n",
    "try:\n",
    "    age = int(input(\"Enter your age: \"))\n",
    "except ValueError:\n",
    "    print(\"Invalid input!\")"
   ]
  },
  {
   "cell_type": "code",
   "execution_count": null,
   "metadata": {},
   "outputs": [],
   "source": [
    "#Q4 explain with an example \n",
    "#a.try and else \n",
    "#b. finally \n",
    "#c. raise\n",
    "\n",
    "#a ans-The try and except block in Python is used to catch and handle exceptions. Python executes code following the try statement as a “normal” part of the program.\n",
    "try:\n",
    "  print(\"Hello\")\n",
    "except:\n",
    "  print(\"Something went wrong\")\n",
    "else:\n",
    "  print(\"it be wrong\")\n",
    "\n",
    "#b. finally \n",
    "#If in your code, the except block is unable to catch the exception and the exception message gets printed on the console, which interrupts code execution, still the finally block will get executed.\n",
    "try:\n",
    "  print(\"Hello\")\n",
    "except:\n",
    "  print(\"Something went wrong\")\n",
    "finally:\n",
    "  print(\"HELLO USER\")\n",
    "#C. raise \n",
    "#To throw (or raise) an exception, use the raise keyword\n",
    "# The raise keyword is used to raise an exception.\n",
    "\n",
    "# You can define what kind of error to raise, and the text to print to the user.\n",
    "x = -1\n",
    "if x < 0:\n",
    "  raise Exception(\"Sorry, no numbers below zero\")\n",
    "\n"
   ]
  },
  {
   "cell_type": "code",
   "execution_count": 13,
   "metadata": {},
   "outputs": [],
   "source": [
    "#Q5-WHAT ARE THE CUSTOM EXCEPTION IN python?whydo we need custom execption? explain with example?\n",
    "\n",
    "#ans-In Python you can create your own custom exceptions to handle specific errors that may occur in your code.\n",
    "# it can be useful when you want to raise an exception that is more specific than the built-in exceptions.\n",
    "\n",
    "class InvalidInputError(Exception):\n",
    "    def __init__(self, message):\n",
    "        self.message = message\n",
    "        super().__init__(self.message)\n",
    "    def divide_numbers(a, b):\n",
    "      if b == 0:\n",
    "        raise InvalidInputError(\"Division by zero not allowed!\")\n",
    "      return a / b    \n",
    "\n",
    "\n",
    "\n",
    " "
   ]
  },
  {
   "cell_type": "code",
   "execution_count": 1,
   "metadata": {},
   "outputs": [],
   "source": [
    "#6 create a custom exception class use  this class to  handle an exception?\n",
    "class InvalidInputError(Exception):\n",
    "    def __init__(self, message):\n",
    "        self.message = message\n",
    "        super().__init__(self.message)\n",
    "    def divide_numbers(a, b):\n",
    "      if b == 0:\n",
    "        raise InvalidInputError(\"Division by zero not allowed!\")\n",
    "      return a / b    \n",
    "\n"
   ]
  }
 ],
 "metadata": {
  "kernelspec": {
   "display_name": "Python 3",
   "language": "python",
   "name": "python3"
  },
  "language_info": {
   "codemirror_mode": {
    "name": "ipython",
    "version": 3
   },
   "file_extension": ".py",
   "mimetype": "text/x-python",
   "name": "python",
   "nbconvert_exporter": "python",
   "pygments_lexer": "ipython3",
   "version": "3.10.10"
  },
  "orig_nbformat": 4
 },
 "nbformat": 4,
 "nbformat_minor": 2
}
