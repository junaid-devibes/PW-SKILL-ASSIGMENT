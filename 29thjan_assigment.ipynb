{
 "cells": [
  {
   "cell_type": "code",
   "execution_count": 2,
   "id": "2c06cc6a-cae8-4841-95bb-401cba090c84",
   "metadata": {},
   "outputs": [],
   "source": [
    "#29th jan assigment answers\n"
   ]
  },
  {
   "cell_type": "code",
   "execution_count": 1,
   "id": "e9995a28-9aea-41f6-b570-aad07ca37cf0",
   "metadata": {},
   "outputs": [],
   "source": [
    "#1. Guido van rossum devloped phython."
   ]
  },
  {
   "cell_type": "code",
   "execution_count": 2,
   "id": "27337880-da7b-43d2-b874-70d8b8842524",
   "metadata": {},
   "outputs": [],
   "source": [
    "#2 . object -oriented programming & functional programming"
   ]
  },
  {
   "cell_type": "code",
   "execution_count": 3,
   "id": "e9d6b9d4-a10e-404b-b20f-e24f62d89553",
   "metadata": {},
   "outputs": [],
   "source": [
    "#3. yes phython is case sensetive."
   ]
  },
  {
   "cell_type": "code",
   "execution_count": 4,
   "id": "73d20287-a114-4c1d-911a-d185cab65320",
   "metadata": {},
   "outputs": [],
   "source": [
    "#4. .py  is the correct extension"
   ]
  },
  {
   "cell_type": "code",
   "execution_count": 5,
   "id": "8a5a9ee1-6a12-49ee-bea8-b4cbe0d954e2",
   "metadata": {},
   "outputs": [],
   "source": [
    "#5.Both compiled AS well as an interpreted language"
   ]
  },
  {
   "cell_type": "code",
   "execution_count": 9,
   "id": "0f323ee5-edff-43e1-999b-72660c12ec68",
   "metadata": {},
   "outputs": [],
   "source": [
    "#6.few block of code"
   ]
  },
  {
   "cell_type": "code",
   "execution_count": 15,
   "id": "3e28bcf2-f7e7-471f-a955-d09ccfc7e5bf",
   "metadata": {},
   "outputs": [],
   "source": [
    "example = \"this\""
   ]
  },
  {
   "cell_type": "code",
   "execution_count": 16,
   "id": "4be02876-e63a-4c21-a774-4f54ae4d3ec3",
   "metadata": {},
   "outputs": [
    {
     "data": {
      "text/plain": [
       "'this'"
      ]
     },
     "execution_count": 16,
     "metadata": {},
     "output_type": "execute_result"
    }
   ],
   "source": [
    "example"
   ]
  },
  {
   "cell_type": "code",
   "execution_count": 17,
   "id": "ffdfd65b-b0b3-47cb-b7dd-1f77508d7596",
   "metadata": {},
   "outputs": [
    {
     "name": "stdout",
     "output_type": "stream",
     "text": [
      "example is a str type\n"
     ]
    }
   ],
   "source": [
    "if type(example) is str:\n",
    "    print(\"example is a str type\")"
   ]
  },
  {
   "cell_type": "code",
   "execution_count": 18,
   "id": "c950ee59-8225-4047-b853-eb334876a65e",
   "metadata": {},
   "outputs": [],
   "source": [
    "#7. # is used to define single line comment"
   ]
  },
  {
   "cell_type": "code",
   "execution_count": 19,
   "id": "da7b5c4e-232e-4540-a3fe-f519d9283d12",
   "metadata": {},
   "outputs": [],
   "source": [
    "#8. sys.version"
   ]
  },
  {
   "cell_type": "code",
   "execution_count": 20,
   "id": "7264154e-f9a2-4260-875b-d312fa846fe8",
   "metadata": {},
   "outputs": [],
   "source": [
    "#9. lambda"
   ]
  },
  {
   "cell_type": "code",
   "execution_count": 21,
   "id": "c27db344-d702-4c30-a229-62fdfd6976b0",
   "metadata": {},
   "outputs": [
    {
     "data": {
      "text/plain": [
       "<function __main__.<lambda>()>"
      ]
     },
     "execution_count": 21,
     "metadata": {},
     "output_type": "execute_result"
    }
   ],
   "source": [
    "lambda : print(\"this is lambda function\")"
   ]
  },
  {
   "cell_type": "code",
   "execution_count": 22,
   "id": "b371ab3e-a6ba-42c6-af10-37bf7722ce90",
   "metadata": {},
   "outputs": [],
   "source": [
    "#10. pip stand for Preffered installer program."
   ]
  },
  {
   "cell_type": "code",
   "execution_count": 24,
   "id": "49b3f93c-c415-4bfb-83b9-0fc7c5f19a2f",
   "metadata": {},
   "outputs": [],
   "source": [
    "#11.len(),type() ,dict()_,upper(),list()."
   ]
  },
  {
   "cell_type": "code",
   "execution_count": 26,
   "id": "fcd9aa97-7004-4e03-b516-74866f8a8f64",
   "metadata": {},
   "outputs": [],
   "source": [
    "#12. 79 character is the maxium length of identifer ."
   ]
  },
  {
   "cell_type": "code",
   "execution_count": 27,
   "id": "50fce490-c5bf-4d4c-a595-b178c5648702",
   "metadata": {},
   "outputs": [],
   "source": [
    "#13. The benifit of using Python "
   ]
  },
  {
   "cell_type": "code",
   "execution_count": 29,
   "id": "50bca9a7-5a60-4358-ad6f-c9bdc8829d5f",
   "metadata": {},
   "outputs": [],
   "source": [
    "# 1.mathemetical packages are available\n",
    "# 2 . it have less syntax\n",
    "# 3.it more alike psuedo codes.& easy verable."
   ]
  },
  {
   "cell_type": "code",
   "execution_count": 30,
   "id": "5f9a38f0-8def-48af-8117-8136081de694",
   "metadata": {},
   "outputs": [],
   "source": [
    "# 14. objects which are no longer referenced get cleaned by garbage collector."
   ]
  },
  {
   "cell_type": "code",
   "execution_count": 33,
   "id": "3ec52da4-1d89-42c7-905b-952fc14f2634",
   "metadata": {},
   "outputs": [],
   "source": [
    "#15.install the latest version of phython exe from offical websites.\n",
    "# .install the .exe setup program in the window\n",
    "# . setup the enviorment variable."
   ]
  },
  {
   "cell_type": "code",
   "execution_count": null,
   "id": "d1c328d8-c436-422d-abd0-7b4cc2d1de71",
   "metadata": {},
   "outputs": [],
   "source": [
    "#16. yes indentation is must required "
   ]
  }
 ],
 "metadata": {
  "kernelspec": {
   "display_name": "Python 3 (ipykernel)",
   "language": "python",
   "name": "python3"
  },
  "language_info": {
   "codemirror_mode": {
    "name": "ipython",
    "version": 3
   },
   "file_extension": ".py",
   "mimetype": "text/x-python",
   "name": "python",
   "nbconvert_exporter": "python",
   "pygments_lexer": "ipython3",
   "version": "3.10.8"
  }
 },
 "nbformat": 4,
 "nbformat_minor": 5
}
