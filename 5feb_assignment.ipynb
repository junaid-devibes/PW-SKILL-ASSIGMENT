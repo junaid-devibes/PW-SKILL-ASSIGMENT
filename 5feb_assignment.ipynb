{
 "cells": [
  {
   "cell_type": "code",
   "execution_count": 1,
   "metadata": {},
   "outputs": [],
   "source": [
    "#1. class is a bluprint of the implementation and object is a entity\n",
    "class Customer:\n",
    "    data = {}\n",
    "\n",
    "    def __init__(self, name, phone, order):\n",
    "        self.data = {\"name\": name, \"phone\": phone, \"order\": order}\n",
    "    \n",
    "    def getDetail(self):\n",
    "        return self.data\n",
    "customerObject = Customer(\"junaid\", \"987000000000\", \"one chees pizza\")"
   ]
  },
  {
   "cell_type": "code",
   "execution_count": null,
   "metadata": {},
   "outputs": [],
   "source": [
    "#2. For pillers of OOPS are encapsulation, inheritance, polymorphism, abstraction. "
   ]
  },
  {
   "cell_type": "code",
   "execution_count": null,
   "metadata": {},
   "outputs": [],
   "source": [
    "#3. __init__() function is a constructor funciton and it is used to initialize property member of a class."
   ]
  },
  {
   "cell_type": "code",
   "execution_count": 2,
   "metadata": {},
   "outputs": [],
   "source": [
    "#4. self is used as instance of the class, so it can access the members of the class. It is the first positonal argument of the class method, which is ignored when constructing an object."
   ]
  },
  {
   "cell_type": "code",
   "execution_count": 16,
   "metadata": {},
   "outputs": [
    {
     "data": {
      "text/plain": [
       "[604, 'PAN card']"
      ]
     },
     "execution_count": 16,
     "metadata": {},
     "output_type": "execute_result"
    }
   ],
   "source": [
    "#5. Inheritance is used to reduce the duplicate code. A class can inherite one ore more class to use their members.\n",
    "\n",
    "# single inheritance\n",
    "class Human:\n",
    "    sences = [\"eye\", \"ear\", \"skin\", \"nose\", \"tongue\"]\n",
    "\n",
    "class Person(Human):\n",
    "    name = None\n",
    "    family = None\n",
    "\n",
    "# multiple inheritance\n",
    "\n",
    "class SocialIdentity:\n",
    "    id_proof = None\n",
    "\n",
    "    def __init__(self, id_proof) -> None:\n",
    "        self.id_proof = id_proof\n",
    "\n",
    "class Flat:\n",
    "    flat_number = None\n",
    "\n",
    "    def __init__(self, flat_number) -> None:\n",
    "        self.flat_number = flat_number\n",
    "\n",
    "class Socity(Flat, SocialIdentity):\n",
    "    def __init__(self, flat_number, id_proof) -> None:\n",
    "       self.socityIdentity = SocialIdentity(id_proof)\n",
    "       self.flat = Flat(flat_number)\n",
    "    \n",
    "    def getFlat(self):\n",
    "        return [self.flat.flat_number, self.socityIdentity.id_proof]\n",
    "\n",
    "# multi level inheritance\n",
    "class HouseRent:\n",
    "    price = 10000\n",
    "    detail = \"3 bhk\"\n",
    "\n",
    "class Broker(HouseRent):\n",
    "    def getRentPrice(self):\n",
    "        return {\"price\": self.price + 5000, \"room\": self.detail}\n",
    "\n",
    "class Tanent(Broker):\n",
    "    def getPayableRent(self):\n",
    "        return self.getRentPrice()\n",
    "\n",
    "Tanent().getPayableRent()\n",
    "\n",
    "# Hierarchical inheritance\n",
    "\n",
    "class Rent():\n",
    "    price = 3000\n",
    "\n",
    "class Bachlor(Rent):\n",
    "    pass\n",
    "\n",
    "class WorkingPerson(Rent):\n",
    "    pass\n",
    "\n",
    "class Student(Rent):\n",
    "    pass\n",
    "\n",
    "# Hybrid inheritance\n",
    "\n",
    "class Bhk2(Bachlor):\n",
    "    pass\n",
    "\n",
    "class Bhk3(Bachlor, Student):\n",
    "    pass\n",
    "\n",
    "class FamilyFlat(Socity, WorkingPerson):\n",
    "    def __init__(self, flat_number, id_proof) -> None:\n",
    "        super().__init__(flat_number, id_proof)\n",
    "\n",
    "FamilyFlat(604, \"PAN card\").getFlat()"
   ]
  }
 ],
 "metadata": {
  "kernelspec": {
   "display_name": "Python 3",
   "language": "python",
   "name": "python3"
  },
  "language_info": {
   "codemirror_mode": {
    "name": "ipython",
    "version": 3
   },
   "file_extension": ".py",
   "mimetype": "text/x-python",
   "name": "python",
   "nbconvert_exporter": "python",
   "pygments_lexer": "ipython3",
   "version": "3.10.10"
  },
  "orig_nbformat": 4,
  "vscode": {
   "interpreter": {
    "hash": "486e0d5a79acdbfffd563ee7a67a93a5017bd2a4f66495483a69f0245c8a4a6c"
   }
  }
 },
 "nbformat": 4,
 "nbformat_minor": 2
}
