{
 "cells": [
  {
   "cell_type": "code",
   "execution_count": null,
   "metadata": {},
   "outputs": [],
   "source": [
    "#Q1 Q1. Which function is used to open a file? What are the different modes of opening a file? Explain each mode of file opening.\n",
    "#ans- open()function\n",
    "\n",
    "#r\tOpen a file for reading. (default)\n",
    "#w\tOpen a file for writing. Creates a new file if it does not exist or truncates the file if it exists.\n",
    "#x\tOpen a file for exclusive creation. If the file already exists, the operation fails.\n",
    "#a\tOpen a file for appending at the end of the file without    truncating it. Creates a new file if it does not exist.\n",
    "#t\tOpen in text mode. (default)\n",
    "#b\tOpen in binary mode.\n",
    "#+\tOpen a file for updating (reading and writing)"
   ]
  },
  {
   "cell_type": "code",
   "execution_count": null,
   "metadata": {},
   "outputs": [],
   "source": [
    "#Q2 Why close() function is used? Why is it important to close a file?\n",
    "\n",
    "#The close() function is used to close a file that has been opened in a program. \n",
    "#It is important to close a file after reading from or writing to it because it frees up system resources, including memory and operating system file handles.\n",
    "\n"
   ]
  },
  {
   "cell_type": "code",
   "execution_count": 1,
   "metadata": {},
   "outputs": [
    {
     "data": {
      "text/plain": [
       "'I want to become data Scienmist\\n'"
      ]
     },
     "execution_count": 1,
     "metadata": {},
     "output_type": "execute_result"
    }
   ],
   "source": [
    "#Q3 Write a python program to create a text file. Write ‘I want to become a Data Scientist’ in that file. Then close the file. Open this file and read the content of the file.\n",
    "\n",
    "#ans\n",
    "file=open(\"test\",\"w\")\n",
    "file.write(\"I want to become data Scienmist\\n\")\n",
    "file.close()\n",
    "file=open(\"test\",\"r\")\n",
    "file.read()\n"
   ]
  },
  {
   "cell_type": "code",
   "execution_count": 6,
   "metadata": {},
   "outputs": [
    {
     "name": "stdout",
     "output_type": "stream",
     "text": [
      "['This is the first line.\\n', 'This is the first line.\\n', 'This is the first line.\\n', 'This is the first line.\\n']\n"
     ]
    }
   ],
   "source": [
    "# Q4. Explain the following with python code: read(), readline() and readlines().\n",
    "\n",
    "#read()\n",
    "with open('example', 'w') as test :\n",
    "    test.write('This is the first line.\\n')\n",
    "    test=open(\"example\", \"r\")\n",
    "    test.read()\n",
    "print(test.read())\n",
    "\n",
    "#readline()\n",
    "with open('examples', 'w') as test1 :       \n",
    "    test1.write('This is the first line.\\n')\n",
    "    test1=open(\"examples\", \"r\")\n",
    "\n",
    "print(test1.readline(5))\n",
    "#readlines\n",
    "with open('examples', 'w') as test2 :       \n",
    "    test2.write('This is the first line.\\n')\n",
    "    test2.write('This is the first line.\\n')\n",
    "    test2.write('This is the first line.\\n')\n",
    "    test2.write('This is the first line.\\n')\n",
    "    test2=open(\"examples\", \"r\")\n",
    "print(test2.readlines())\n",
    "\n",
    "\n",
    "\n",
    "\n"
   ]
  },
  {
   "cell_type": "code",
   "execution_count": null,
   "metadata": {},
   "outputs": [],
   "source": [
    "#4 #Explain why with statement is used with open(). What is the advantage of using with statement and open() together?\n",
    "\n",
    "#ans- we use the with open()\n",
    "#When with the block ends, it will automatically close the file. So, it reduces the number of lines of code and reduces the chances of bug."
   ]
  },
  {
   "cell_type": "code",
   "execution_count": 13,
   "metadata": {},
   "outputs": [
    {
     "name": "stdout",
     "output_type": "stream",
     "text": [
      "this is a write function,1,2,3]\n"
     ]
    }
   ],
   "source": [
    "#5 Explain the write() and writelines() functions. Give a suitable example.\n",
    "#ans-The write() function is used to write a single string to a file. It takes a single argument, which is the string to be written to the file. If the file already exists, the contents of the file will be overwritten by the new data. \n",
    "with open(\"text\",\"w\") as files :\n",
    " files.write(\"this is a write function\")\n",
    " files.close\n",
    "# #The writelines() function, on the other hand, is used to write a sequence of strings to a file. It takes a single argument, which is a sequence (e.g. list, tuple, etc.) of strings to be written to the file\n",
    " with open(\"text\",\"w\") as files:\n",
    "  lines=(\"write the lines/n\",\"hrg.g\",\"[0,1,2,3]\")\n",
    "  files.writelines(lines)\n",
    "  files=open(\"text\",\"r\")\n",
    "  files.read()\n",
    "print(files.read())\n",
    "\n",
    "\n"
   ]
  }
 ],
 "metadata": {
  "kernelspec": {
   "display_name": "Python 3",
   "language": "python",
   "name": "python3"
  },
  "language_info": {
   "codemirror_mode": {
    "name": "ipython",
    "version": 3
   },
   "file_extension": ".py",
   "mimetype": "text/x-python",
   "name": "python",
   "nbconvert_exporter": "python",
   "pygments_lexer": "ipython3",
   "version": "3.10.10"
  },
  "orig_nbformat": 4
 },
 "nbformat": 4,
 "nbformat_minor": 2
}
