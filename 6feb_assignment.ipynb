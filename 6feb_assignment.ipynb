{
 "cells": [
  {
   "cell_type": "code",
   "execution_count": 9,
   "metadata": {},
   "outputs": [
    {
     "name": "stdout",
     "output_type": "stream",
     "text": [
      "4134711838987085478833841242112000\n"
     ]
    }
   ],
   "source": [
    "#1. function extract numeric, and return product.\n",
    "\n",
    "from functools import reduce\n",
    "\n",
    "list1 = [1,2,3,4, [44,55,66, True], False, (34,56,78,89,34), {1,2,3,3,2,1}, {1:34, \"key2\": [55, 67, 78, 89], 4: (45,22, 61, 34)}, [56, 'data science'], 'Machine Learning']\n",
    "\n",
    "def productOfNumber(dataList):\n",
    "    li_only_int = [data for data in dataList if type(data) is int]\n",
    "\n",
    "    for data in dataList:\n",
    "        li_only_int.extend(data) if type(data) in [list, tuple, set] else li_only_int\n",
    "    \n",
    "    # extract 0 index dict entry form the list comprehension in a list.\n",
    "    dict_val = [data for data in dataList if type(data) is dict][0]\n",
    "\n",
    "    # extracted 56 here after set {1,2,3,3,2,1}\n",
    "    li_only_int = [data for data in li_only_int if type(data) not in [str, bool]]\n",
    "\n",
    "    for key in dict_val:\n",
    "        if type(key) is int:\n",
    "            li_only_int.append(key)\n",
    "        if type(dict_val[key]) is not int:\n",
    "            li_only_int.extend(dict_val[key])\n",
    "        else:\n",
    "            li_only_int.append(dict_val[key])\n",
    "    return li_only_int\n",
    "\n",
    "print(reduce(lambda x,y: x*y,productOfNumber(list1)))\n"
   ]
  },
  {
   "cell_type": "code",
   "execution_count": 23,
   "metadata": {},
   "outputs": [
    {
     "name": "stdout",
     "output_type": "stream",
     "text": [
      "r$wzmg$gl$yvxlmv$z$wzgz$hxrvmgrhg.\n"
     ]
    }
   ],
   "source": [
    "#2. encryption of message a -> z | b -> y | c -> x respectively white space replaced with $.\n",
    "\n",
    "def encryptMessage(plain_text:str):\n",
    "    plain_text = plain_text.lower()\n",
    "    encrypted_text = plain_text.replace(\" \", \"$\")\n",
    "    cipher_text = list('abcdefghijklmnopqrstuvwxyz')\n",
    "    cipher_mapping = cipher_text[::-1]\n",
    "    for ch in encrypted_text:\n",
    "        if ch != \"$\" and ch != \".\":\n",
    "            encrypted_text = encrypted_text.replace(ch, cipher_mapping[cipher_text.index(ch)])\n",
    "    return encrypted_text\n",
    "\n",
    "encrypted_text = encryptMessage(\"I want to become a Data Scientist.\")\n",
    "print(encrypted_text)"
   ]
  }
 ],
 "metadata": {
  "kernelspec": {
   "display_name": "Python 3",
   "language": "python",
   "name": "python3"
  },
  "language_info": {
   "codemirror_mode": {
    "name": "ipython",
    "version": 3
   },
   "file_extension": ".py",
   "mimetype": "text/x-python",
   "name": "python",
   "nbconvert_exporter": "python",
   "pygments_lexer": "ipython3",
   "version": "3.10.10"
  },
  "orig_nbformat": 4,
  "vscode": {
   "interpreter": {
    "hash": "486e0d5a79acdbfffd563ee7a67a93a5017bd2a4f66495483a69f0245c8a4a6c"
   }
  }
 },
 "nbformat": 4,
 "nbformat_minor": 2
}
